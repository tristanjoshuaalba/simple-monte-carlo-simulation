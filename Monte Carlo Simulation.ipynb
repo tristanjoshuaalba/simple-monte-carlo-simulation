{
 "cells": [
  {
   "cell_type": "markdown",
   "metadata": {},
   "source": [
    "# Monte Carlo Simulation on Python"
   ]
  },
  {
   "cell_type": "markdown",
   "metadata": {},
   "source": [
    "Monte Carlo is a technique used to simulate a system using random sampling. This approach is proven to be powerful, flexible, and very straightforward. In many cases, it provides a simplified solution to a rather more complex problem i.e. chemical reaction, road traffic, financial data prediction. It is used in solving problems that are **deterministic** in nature, in contrast to stochastic problems. Moreover, it is used to solve problems that have probabilistic interpretation. \n",
    "\n",
    "Monte Carlo methods vary, but in general follow a similar trend outlined below:\n",
    "\n",
    "1. Define a domain of possible inputs\n",
    "2. Generate inputs randomly from a probability distribution over the domain\n",
    "3. Perform a deterministic computation on the inputs\n",
    "4. Aggregate the results\n",
    "\n",
    "Here, we demonstrate how to carry out a simple monte carlo simulation on python using the `random` module. "
   ]
  },
  {
   "cell_type": "markdown",
   "metadata": {},
   "source": [
    "## Demonstration: The Gambler's Ruin"
   ]
  },
  {
   "cell_type": "markdown",
   "metadata": {},
   "source": [
    "A gamble plays coin toss games for a living. The gambler starts with an initial wealth of 20 USD and bets in 1 USD increments. The gambler stops when either his wealth doubles or he goes bust. \n",
    "\n",
    "- What is the expected value of wealth?\n",
    "- What is the expected value of the stopping time?"
   ]
  },
  {
   "cell_type": "markdown",
   "metadata": {},
   "source": [
    "### Creating a `cointoss` function \n",
    "A function that simulates the probability of winning a coin toss with default p = 0.5 is created."
   ]
  },
  {
   "cell_type": "code",
   "execution_count": 1,
   "metadata": {
    "ExecuteTime": {
     "end_time": "2018-06-05T07:33:15.564561Z",
     "start_time": "2018-06-05T07:33:14.738304Z"
    },
    "collapsed": true
   },
   "outputs": [],
   "source": [
    "import random\n",
    "import numpy as np\n",
    "import matplotlib.pyplot as plt\n",
    "\n",
    "def cointoss(p = 0.5):\n",
    "    toss = random.random()\n",
    "    \n",
    "    if toss <= p:\n",
    "        return True\n",
    "    elif toss > p:\n",
    "        return False"
   ]
  },
  {
   "cell_type": "markdown",
   "metadata": {},
   "source": [
    "### Creating a `bet_once` function \n",
    "A function that plots the gain of wealth and how long it takes the gambler to gain that wealth is created."
   ]
  },
  {
   "cell_type": "code",
   "execution_count": 2,
   "metadata": {
    "ExecuteTime": {
     "end_time": "2018-06-05T07:33:15.605503Z",
     "start_time": "2018-06-05T07:33:15.568309Z"
    }
   },
   "outputs": [],
   "source": [
    "def bet_once(init_wealth, init_bet, target, plot = True, takehome = 1, p = 0.5):\n",
    "    \n",
    "    time = 0\n",
    "    wealth_gain = init_wealth\n",
    "    \n",
    "    while init_wealth > 0 and init_wealth < target:\n",
    "        wealth_gain = np.append(wealth_gain,init_wealth)\n",
    "        \n",
    "        if cointoss(p = p): init_wealth += init_bet*takehome\n",
    "        else: init_wealth -= init_bet\n",
    "        time += 1\n",
    "        \n",
    "    final_wealth = init_wealth \n",
    "    \n",
    "    if plot == True:\n",
    "        plt.figure(figsize=(10,5))\n",
    "        plt.plot(wealth_gain)\n",
    "        plt.xlabel('Time', size = 12)\n",
    "        plt.ylabel('Total Wealth', size =12)\n",
    "        plt.tight_layout()\n",
    "        plt.show()\n",
    "    else:\n",
    "        pass\n",
    "    \n",
    "    return time, final_wealth"
   ]
  },
  {
   "cell_type": "markdown",
   "metadata": {},
   "source": [
    "### Creating a `gambling_simul` function \n",
    "To simulate monte carlo, the `gambling_simul` function is created. The said function takes in the `bet_once` function above and recursively iterates over it for an indicated number of recursions. The resulting wealth and time is then taken as the average of the recursions."
   ]
  },
  {
   "cell_type": "markdown",
   "metadata": {},
   "source": [
    "The monte carlo simulation of the gambling experiment is given by the equation:\n",
    "$$ X_{n+1} = X_n + b $$"
   ]
  },
  {
   "cell_type": "code",
   "execution_count": 3,
   "metadata": {
    "ExecuteTime": {
     "end_time": "2018-06-05T07:33:15.643581Z",
     "start_time": "2018-06-05T07:33:15.610789Z"
    },
    "collapsed": true
   },
   "outputs": [],
   "source": [
    "def gambling_simul(init_wealth, init_bet, target,takehome, p, mc_simul=1000):\n",
    "    NN = mc_simul\n",
    "    Ncount = 1\n",
    "    total_time = 0.\n",
    "    total_wealth = 0.\n",
    "    \n",
    "    while Ncount < NN:\n",
    "        T,X = bet_once(init_wealth,init_bet,target,False,takehome,p)\n",
    "        total_time = total_time + T\n",
    "        total_wealth = total_wealth + X\n",
    "        Ncount = Ncount + 1\n",
    "        \n",
    "    expected_wealth = total_wealth/NN\n",
    "    expected_time = total_time/NN\n",
    "    return expected_wealth, expected_time"
   ]
  },
  {
   "cell_type": "markdown",
   "metadata": {},
   "source": [
    "### Determining the outcome when `p = 0.5` (default)"
   ]
  },
  {
   "cell_type": "code",
   "execution_count": 4,
   "metadata": {
    "ExecuteTime": {
     "end_time": "2018-06-05T07:33:17.652113Z",
     "start_time": "2018-06-05T07:33:15.646794Z"
    },
    "scrolled": true
   },
   "outputs": [
    {
     "name": "stdout",
     "output_type": "stream",
     "text": [
      "Expected Wealth: 20.08\n",
      "Expected Gain: 0.40%\n",
      "Expected Time to be Taken: 389.714\n",
      "Probability of Winning: 0.5\n",
      "Takehome Multiplier: 1\n"
     ]
    }
   ],
   "source": [
    "init_wealth = 20\n",
    "init_bet = 1\n",
    "target = 40\n",
    "takehome = 1\n",
    "p = 0.5\n",
    "\n",
    "gain, timetaken = gambling_simul(init_wealth, init_bet, target, takehome,p)\n",
    "\n",
    "print(\"Expected Wealth: {:.2f}\\nExpected Gain: {:.2f}%\\nExpected Time to be Taken: {}\\n\\\n",
    "Probability of Winning: {}\\nTakehome Multiplier: {}\".format(\n",
    "    gain, (gain-init_wealth)*100/init_wealth, timetaken,p,takehome))"
   ]
  },
  {
   "cell_type": "markdown",
   "metadata": {},
   "source": [
    "### Determining the outcome when `p = 0.6`, and the house takes home 10% of the winnings (`takehome = 0.9`)"
   ]
  },
  {
   "cell_type": "code",
   "execution_count": 5,
   "metadata": {
    "ExecuteTime": {
     "end_time": "2018-06-05T07:33:18.490451Z",
     "start_time": "2018-06-05T07:33:17.655393Z"
    },
    "scrolled": true
   },
   "outputs": [
    {
     "name": "stdout",
     "output_type": "stream",
     "text": [
      "Expected Wealth: 40.30\n",
      "Expected Gain: 101.49%\n",
      "Expected Time to be Taken: 140.913\n",
      "Probability of Winning: 0.6\n",
      "Takehome Multiplier: 0.9\n"
     ]
    }
   ],
   "source": [
    "init_wealth = 20\n",
    "init_bet = 1\n",
    "target = 40\n",
    "takehome = 0.9\n",
    "p = 0.6\n",
    "\n",
    "gain, timetaken = gambling_simul(init_wealth, init_bet, target, takehome,p)\n",
    "\n",
    "print(\"Expected Wealth: {:.2f}\\nExpected Gain: {:.2f}%\\nExpected Time to be Taken: {}\\n\\\n",
    "Probability of Winning: {}\\nTakehome Multiplier: {}\".format(\n",
    "    gain, (gain-init_wealth)*100/init_wealth, timetaken,p,takehome))"
   ]
  },
  {
   "cell_type": "markdown",
   "metadata": {},
   "source": [
    "## Summary\n",
    "In this document, Monte Carlo Method is demonstrated using the Gambler's Ruin experiment. High iterations of random sampling given the inputs: initial wealth, initial bet, and other game parameters allowed us to determine the expected output: wealth gained and time taken."
   ]
  },
  {
   "cell_type": "markdown",
   "metadata": {},
   "source": [
    "## References:"
   ]
  },
  {
   "cell_type": "markdown",
   "metadata": {},
   "source": [
    "<sup>[1]</sup> Monte Carlo Introduction <https://pythonprogramming.net/monte-carlo-simulator-python/>"
   ]
  }
 ],
 "metadata": {
  "kernelspec": {
   "display_name": "Python 3",
   "language": "python",
   "name": "python3"
  },
  "language_info": {
   "codemirror_mode": {
    "name": "ipython",
    "version": 3
   },
   "file_extension": ".py",
   "mimetype": "text/x-python",
   "name": "python",
   "nbconvert_exporter": "python",
   "pygments_lexer": "ipython3",
   "version": "3.6.3"
  }
 },
 "nbformat": 4,
 "nbformat_minor": 2
}
